{
 "cells": [
  {
   "cell_type": "code",
   "execution_count": null,
   "metadata": {},
   "outputs": [],
   "source": [
    "import matplotlib.pyplot as plt\n",
    "from matplotlib.patches import Rectangle\n",
    "from matplotlib import rcParams\n",
    "\n",
    "\n",
    "rcParams['font.family'] = 'DejaVu Sans'\n",
    "\n",
    "texts = [\"Life is beautiful\", \"Livet er smukt\", \"人生は素晴らしい\", \"La vida és bella\"]\n",
    "languages = [\"English\", \"Danish\", \"Japanese\", \"Catalan\"]\n",
    "is_correct = [True, True, True, True] \n",
    "\n",
    "texts.reverse()\n",
    "languages.reverse()\n",
    "\n",
    "colors = ['#a8e6a3' for _ in is_correct]\n",
    "\n",
    "fig, ax = plt.subplots(figsize=(10, 4))\n",
    "y_positions = range(len(texts))\n",
    "\n",
    "for i, (text, color) in enumerate(zip(texts, colors)):\n",
    "    if i == 1:\n",
    "        rcParams['font.family'] = 'Droid Sans Japanese'\n",
    "    else:\n",
    "        rcParams['font.family'] = 'DejaVu Sans'\n",
    "    text_box = Rectangle((-0.5, i - 0.4), width=4, height=0.8,\n",
    "                         edgecolor='black', facecolor=\"white\")\n",
    "    ax.add_patch(text_box)\n",
    "    ax.text(1.5, i, text, ha=\"center\", va=\"center\", fontsize=12, fontweight=\"bold\")\n",
    "\n",
    "for i, (lang, color) in enumerate(zip(languages, colors)):\n",
    "    lang_box = Rectangle((5, i - 0.4), width=2, height=0.8,\n",
    "                         edgecolor='black', facecolor=color)\n",
    "    ax.add_patch(lang_box)\n",
    "    ax.text(6, i, lang, ha=\"center\", va=\"center\", fontsize=12, fontweight=\"bold\")\n",
    "\n",
    "for i in y_positions:\n",
    "    ax.plot([3.5, 5], [i, i], color=\"black\", lw=1)\n",
    "\n",
    "ax.set_xlim(-1, 8)\n",
    "ax.set_ylim(-1, len(texts))\n",
    "ax.axis(\"off\")\n",
    "plt.savefig(\"langid.pdf\", bbox_inches='tight')\n",
    "plt.show()\n",
    "\n"
   ]
  },
  {
   "cell_type": "code",
   "execution_count": null,
   "metadata": {},
   "outputs": [],
   "source": [
    "import matplotlib.font_manager\n",
    "print([f.name for f in matplotlib.font_manager.fontManager.ttflist])"
   ]
  },
  {
   "cell_type": "markdown",
   "metadata": {},
   "source": [
    "### Train time"
   ]
  },
  {
   "cell_type": "code",
   "execution_count": null,
   "metadata": {},
   "outputs": [],
   "source": [
    "import matplotlib.pyplot as plt\n",
    "import seaborn as sns\n",
    "sns.set_style(\"whitegrid\")\n",
    "\n",
    "models = ['textcat', 'Naïve Bayes', 'FastText']\n",
    "instances = [500000, 1000000, 2033999, 6101997]\n",
    "training_times = {\n",
    "    'textcat': [184.61, 324.86, 541.60, 1330.26],\n",
    "    'Naïve Bayes': [292.68, 541.79, 1072.8, 2901.12],\n",
    "    'FastText': [378.49, 752.1, 1591.935, 4535.13]\n",
    "}\n",
    "\n",
    "training_times = {key: [value / 60 for value in values] for key, values in training_times.items()}\n",
    "\n",
    "print(training_times)\n",
    "\n",
    "\n",
    "plt.figure(figsize=(8, 6))\n",
    "\n",
    "for model in models:\n",
    "    plt.plot(instances, training_times[model], marker='o', label=model)\n",
    "\n",
    "plt.xlabel('Number of Instances', fontsize=20)\n",
    "plt.ylabel('Training Time (minutes)', fontsize=20)\n",
    "plt.grid(True, which=\"both\", linestyle='--', linewidth=0.5)\n",
    "\n",
    "plt.legend(fontsize=18)\n",
    "plt.tick_params(axis='both', labelsize=16)\n",
    "\n",
    "\n",
    "plt.savefig(f\"train.pdf\", format=\"pdf\", bbox_inches=\"tight\")\n",
    "plt.show()\n"
   ]
  }
 ],
 "metadata": {
  "kernelspec": {
   "display_name": "thesis",
   "language": "python",
   "name": "python3"
  },
  "language_info": {
   "codemirror_mode": {
    "name": "ipython",
    "version": 3
   },
   "file_extension": ".py",
   "mimetype": "text/x-python",
   "name": "python",
   "nbconvert_exporter": "python",
   "pygments_lexer": "ipython3",
   "version": "3.13.1"
  }
 },
 "nbformat": 4,
 "nbformat_minor": 2
}
