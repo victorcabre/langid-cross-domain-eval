{
 "cells": [
  {
   "cell_type": "code",
   "execution_count": 1,
   "metadata": {},
   "outputs": [],
   "source": [
    "from pathlib import Path\n",
    "import Levenshtein"
   ]
  },
  {
   "cell_type": "code",
   "execution_count": 2,
   "metadata": {},
   "outputs": [],
   "source": [
    "class Swadesh:\n",
    "    def __init__(self, path) -> None:\n",
    "        self.path = Path(path)\n",
    "\n",
    "\n",
    "    def read_swadesh(self, lang):\n",
    "        english = []\n",
    "        translation = []\n",
    "\n",
    "        for line in open(self.path / f\"{lang}.txt\"):\n",
    "            line = line.split(':')\n",
    "            eng = line[0]\n",
    "            trans = line[1].split('\\t')[0].split('|')[0].strip()\n",
    "\n",
    "            english.append(eng)\n",
    "            translation.append(trans)\n",
    "\n",
    "        return english, translation\n",
    "\n",
    "\n",
    "    def get_common_words(self, eng1, trans1, eng2, trans2):\n",
    "        common_eng = set(eng1) & set(eng2)\n",
    "\n",
    "        dict1 = {k: v for k, v in zip(eng1, trans1) if k in common_eng}\n",
    "        dict2 = {k: v for k, v in zip(eng2, trans2) if k in common_eng}\n",
    "\n",
    "        common_words_1 = [dict1[k] for k in common_eng]\n",
    "        common_words_2 = [dict2[k] for k in common_eng]\n",
    "        \n",
    "        return common_words_1, common_words_2\n",
    "    \n",
    "\n",
    "    def get_similarity(self, lang1: str, lang2: str):\n",
    "        eng1, trans1 = self.read_swadesh(lang1)\n",
    "        eng2, trans2 = self.read_swadesh(lang2)\n",
    "\n",
    "        lang1_words, lang2_words = self.get_common_words(eng1, trans1, eng2, trans2)\n",
    "\n",
    "        similarities = [Levenshtein.ratio(w1, w2) for w1, w2 in zip(lang1_words, lang2_words)]\n",
    "        mean_similarity = sum(similarities) / len(similarities)\n",
    "        return mean_similarity\n"
   ]
  },
  {
   "cell_type": "code",
   "execution_count": null,
   "metadata": {},
   "outputs": [],
   "source": [
    "path = \"/home/victor/Documents/ITU/Thesis/langid4/swadesh/data/swadesh_merged\"\n",
    "sw = Swadesh(path)\n",
    "\n",
    "cat_eng, cat_trans = sw.read_swadesh(\"/home/victor/Documents/ITU/Thesis/langid4/swadesh/data/swadesh_merged/cat.txt\")\n",
    "spa_eng, spa_trans = sw.read_swadesh(\"/home/victor/Documents/ITU/Thesis/langid4/swadesh/data/swadesh_merged/spa.txt\")"
   ]
  },
  {
   "cell_type": "code",
   "execution_count": null,
   "metadata": {},
   "outputs": [],
   "source": [
    "a, b = sw.get_common_words(cat_eng, cat_trans, spa_eng, spa_trans)\n",
    "\n",
    "list(zip(a,b))"
   ]
  },
  {
   "cell_type": "code",
   "execution_count": null,
   "metadata": {},
   "outputs": [],
   "source": [
    "sw = Swadesh(path)\n",
    "sw.get_similarity(\"srp\", \"mkd\")  # serbian macedonian"
   ]
  },
  {
   "cell_type": "code",
   "execution_count": null,
   "metadata": {},
   "outputs": [],
   "source": [
    "sw.get_similarity(\"ukr\", \"bul\")"
   ]
  },
  {
   "cell_type": "code",
   "execution_count": null,
   "metadata": {},
   "outputs": [],
   "source": [
    "sw.get_similarity(\"cat\", \"spa\")"
   ]
  },
  {
   "cell_type": "code",
   "execution_count": null,
   "metadata": {},
   "outputs": [],
   "source": [
    "sw.get_similarity(\"rus\", \"ukr\")"
   ]
  },
  {
   "cell_type": "code",
   "execution_count": null,
   "metadata": {},
   "outputs": [],
   "source": [
    "sw.get_similarity(\"eng\", \"gle\")"
   ]
  },
  {
   "cell_type": "code",
   "execution_count": null,
   "metadata": {},
   "outputs": [],
   "source": [
    "sw.get_similarity(\"srp\", \"hrv\")  # different scripts but similar? Check srp.txt and hrv.txt, serbian croatian"
   ]
  },
  {
   "cell_type": "code",
   "execution_count": null,
   "metadata": {},
   "outputs": [],
   "source": [
    "sw.get_similarity(\"kin\", \"run\")  # some languages not available: kinyarwanda rundi"
   ]
  },
  {
   "cell_type": "code",
   "execution_count": 28,
   "metadata": {},
   "outputs": [],
   "source": [
    "eng, _ = sw.read_swadesh(\"eng\")"
   ]
  },
  {
   "cell_type": "code",
   "execution_count": null,
   "metadata": {},
   "outputs": [],
   "source": [
    "for word in eng:\n",
    "    print(word)"
   ]
  },
  {
   "cell_type": "markdown",
   "metadata": {},
   "source": [
    "#### Panlex"
   ]
  },
  {
   "cell_type": "code",
   "execution_count": 5,
   "metadata": {},
   "outputs": [],
   "source": [
    "import pandas as pd\n",
    "\n",
    "panlex_data = pd.read_csv(\"../langid4/panlex/panlex.csv\", sep=';')"
   ]
  },
  {
   "cell_type": "code",
   "execution_count": null,
   "metadata": {},
   "outputs": [],
   "source": [
    "panlex_data.columns"
   ]
  },
  {
   "cell_type": "code",
   "execution_count": null,
   "metadata": {},
   "outputs": [],
   "source": [
    "test = panlex_data[panlex_data['639-3'] ==\"fra\"]\n",
    "test"
   ]
  }
 ],
 "metadata": {
  "kernelspec": {
   "display_name": "thesis",
   "language": "python",
   "name": "python3"
  },
  "language_info": {
   "codemirror_mode": {
    "name": "ipython",
    "version": 3
   },
   "file_extension": ".py",
   "mimetype": "text/x-python",
   "name": "python",
   "nbconvert_exporter": "python",
   "pygments_lexer": "ipython3",
   "version": "3.13.1"
  }
 },
 "nbformat": 4,
 "nbformat_minor": 2
}
