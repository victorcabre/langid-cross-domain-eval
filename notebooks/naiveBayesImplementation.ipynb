{
 "cells": [
  {
   "cell_type": "code",
   "execution_count": 1,
   "metadata": {},
   "outputs": [],
   "source": [
    "import numpy as np\n",
    "import matplotlib.pyplot as plt\n",
    "import seaborn as sns\n",
    "\n",
    "from sklearn.naive_bayes import MultinomialNB\n",
    "from sklearn.feature_extraction.text import CountVectorizer\n",
    "\n",
    "from sklearn.metrics import accuracy_score"
   ]
  },
  {
   "cell_type": "code",
   "execution_count": 2,
   "metadata": {},
   "outputs": [],
   "source": [
    "def read_data(path):\n",
    "    \"\"\"\n",
    "    Takes as input a path to a conll-like file, with the label in the first \n",
    "    column, and the text in the second. It returns a list of all input texts\n",
    "    and a separate list with all gold labels.\n",
    "    \"\"\"\n",
    "    txts = []\n",
    "    golds = []\n",
    "    for line in open(path):\n",
    "        tok = line.strip().split('\\t')\n",
    "        txts.append(tok[1])\n",
    "        golds.append(tok[0])\n",
    "    return txts, golds"
   ]
  },
  {
   "cell_type": "code",
   "execution_count": 3,
   "metadata": {},
   "outputs": [],
   "source": [
    "train_path = \"../langid4/data/domain.0.combined.train\"\n",
    "txts_train, golds_train = read_data(train_path)"
   ]
  },
  {
   "cell_type": "code",
   "execution_count": null,
   "metadata": {},
   "outputs": [],
   "source": [
    "count_vectorizer = CountVectorizer(ngram_range=(1,4), preprocessor=lambda x: x, analyzer=\"char\", tokenizer=lambda x: x)\n",
    "\n",
    "x_train = count_vectorizer.fit_transform(txts_train)\n"
   ]
  },
  {
   "cell_type": "code",
   "execution_count": null,
   "metadata": {},
   "outputs": [],
   "source": [
    "mnb = MultinomialNB()\n",
    "mnb.fit(x_train, golds_train)"
   ]
  },
  {
   "cell_type": "code",
   "execution_count": 6,
   "metadata": {},
   "outputs": [],
   "source": [
    "dev_path = \"../langid4/data/domain.0.combined.dev\"\n",
    "txts_dev, golds_dev = read_data(dev_path)\n",
    "x_dev = count_vectorizer.transform(txts_dev)\n",
    "\n",
    "y_pred = mnb.predict(x_dev)"
   ]
  },
  {
   "cell_type": "code",
   "execution_count": null,
   "metadata": {},
   "outputs": [],
   "source": [
    "accuracy_score(golds_dev, y_pred)"
   ]
  },
  {
   "cell_type": "code",
   "execution_count": null,
   "metadata": {},
   "outputs": [],
   "source": [
    "source_domains = [\"wiki\", \"news\", \"religious\", \"combined\"]\n",
    "test_domains = [\"wiki\", \"news\", \"religious\", \"rights\", \"social\"]\n",
    "seed_number = 0\n",
    "scores = []\n",
    "\n",
    "for source_domain in source_domains:\n",
    "\n",
    "    train_path = f\"../langid4/data/domain.{seed_number}.{source_domain}.train\"\n",
    "    txts_train, golds_train = read_data(train_path)\n",
    "\n",
    "    count_vectorizer = CountVectorizer(ngram_range=(1,4), preprocessor=lambda x: x, analyzer=\"char\", tokenizer=lambda x: x)\n",
    "    x_train = count_vectorizer.fit_transform(txts_train)\n",
    "\n",
    "    mnb = MultinomialNB()\n",
    "    mnb.fit(x_train, golds_train)\n",
    "\n",
    "    for test_domain in test_domains:\n",
    "        \n",
    "        dev_path = f\"../langid4/data/domain.{seed_number}.{test_domain}.dev\"\n",
    "        txts_dev, golds_dev = read_data(dev_path)\n",
    "        x_dev = count_vectorizer.transform(txts_dev)\n",
    "\n",
    "        y_pred = mnb.predict(x_dev)\n",
    "        accuracy = accuracy_score(golds_dev, y_pred)\n",
    "        scores.append(accuracy)\n",
    "        print((f\"{source_domain} / {test_domain}: {accuracy}\"))\n",
    "\n",
    "print(scores)"
   ]
  },
  {
   "cell_type": "code",
   "execution_count": null,
   "metadata": {},
   "outputs": [],
   "source": [
    "# scores = [0.9632319716164879, 0.9024782608695652, 0.8670869565217392, 0.8294947994056464, 0.8211305007587253, 0.8913527354275099, 0.9572028985507246, 0.8564202898550725, 0.8298662704309064, 0.7926783004552352, 0.8508192057302563, 0.844231884057971, 0.9676956521739131, 0.7968053491827637, 0.7987481031866465, 0.9560858869010761, 0.9571304347826087, 0.9659710144927536, 0.8577265973254086, 0.8537556904400607]\n",
    "source_domains = [\"combined\"]\n",
    "# test_domains = [\"wiki\", \"news\", \"religious\", \"rights\", \"social\"]\n",
    "scores = [0.8542332602547152, 0.893927536231884, 0.8888260869565218, 0.7035661218424963, 0.6817147192716236]\n",
    "score_matrix = np.resize(scores, (len(source_domains), len(test_domains)))\n",
    "score_matrix *= 100\n",
    "\n",
    "ax = sns.heatmap(score_matrix, annot=True, cmap=\"viridis\", yticklabels=source_domains, xticklabels=test_domains, fmt=\".1f\", vmin=50, vmax=100, annot_kws={'size': 16})\n",
    "plt.xticks(rotation=45, fontsize=14)\n",
    "plt.yticks(rotation=0, fontsize=14)\n",
    "ax.set_ylabel(\"Source\", fontsize=16)\n",
    "ax.set_xlabel(\"Target\", fontsize=16)\n",
    "\n",
    "plt.savefig(f\"NaiveBayes.pdf\", format=\"pdf\", bbox_inches=\"tight\")"
   ]
  },
  {
   "cell_type": "markdown",
   "metadata": {},
   "source": [
    "#### With glot500 tokenizer"
   ]
  },
  {
   "cell_type": "code",
   "execution_count": null,
   "metadata": {},
   "outputs": [],
   "source": [
    "from transformers import AutoTokenizer\n",
    "import tqdm\n",
    "\n",
    "tokenizer = AutoTokenizer.from_pretrained('cis-lmu/glot500-base')"
   ]
  },
  {
   "cell_type": "code",
   "execution_count": null,
   "metadata": {},
   "outputs": [],
   "source": [
    "source_domains = [\"wiki\", \"news\", \"religious\", \"combined\"]\n",
    "test_domains = [\"wiki\", \"news\", \"religious\", \"rights\", \"social\"]\n",
    "seed_number = 1\n",
    "scores_glot500_tokenizer = []\n",
    "\n",
    "for source_domain in source_domains:\n",
    "\n",
    "    train_path = f\"../langid4/data/domain.{seed_number}.{source_domain}.train\"\n",
    "    txts_train, golds_train = read_data(train_path)\n",
    "\n",
    "    count_vectorizer = CountVectorizer(ngram_range=(1,2), preprocessor=lambda x: x, analyzer=\"word\", tokenizer=lambda x: tokenizer.tokenize(x))\n",
    "    x_train = count_vectorizer.fit_transform(txts_train)\n",
    "\n",
    "    mnb = MultinomialNB()\n",
    "    mnb.fit(x_train, golds_train)\n",
    "\n",
    "    for test_domain in test_domains:\n",
    "        \n",
    "        dev_path = f\"../langid4/data/domain.{seed_number}.{test_domain}.dev\"\n",
    "        txts_dev, golds_dev = read_data(dev_path)\n",
    "        x_dev = count_vectorizer.transform(txts_dev)\n",
    "\n",
    "        y_pred = mnb.predict(x_dev)\n",
    "        accuracy = accuracy_score(golds_dev, y_pred)\n",
    "        scores_glot500_tokenizer.append(accuracy)\n",
    "        print((f\"{source_domain} / {test_domain}: {accuracy}\"))\n",
    "\n",
    "print(scores_glot500_tokenizer)"
   ]
  },
  {
   "cell_type": "code",
   "execution_count": null,
   "metadata": {},
   "outputs": [],
   "source": [
    "# scores = [0.9632319716164879, 0.9024782608695652, 0.8670869565217392, 0.8294947994056464, 0.8211305007587253, 0.8913527354275099, 0.9572028985507246, 0.8564202898550725, 0.8298662704309064, 0.7926783004552352, 0.8508192057302563, 0.844231884057971, 0.9676956521739131, 0.7968053491827637, 0.7987481031866465, 0.9560858869010761, 0.9571304347826087, 0.9659710144927536, 0.8577265973254086, 0.8537556904400607]\n",
    "source_domains = [\"wiki\", \"news\", \"religious\", \"combined\"]\n",
    "test_domains = [\"wiki\", \"news\", \"religious\", \"rights\", \"social\"]\n",
    "\n",
    "# scores = [0.9720683480327348, 0.8947246376811594, 0.8568695652173913, 0.7722882615156018, 0.6608497723823976, 0.8905159573577895, 0.9647391304347827, 0.8489275362318841, 0.7778603268945022, 0.6079286798179059, 0.8443090723478319, 0.8378115942028985, 0.975463768115942, 0.7444279346210996, 0.6570561456752656, 0.9728214482954831, 0.968, 0.978304347826087, 0.8086924219910847, 0.7463960546282246]\n",
    "score_matrix = np.resize(scores_glot500_tokenizer, (len(source_domains), len(test_domains)))\n",
    "score_matrix *= 100\n",
    "\n",
    "ax = sns.heatmap(score_matrix, annot=True, cmap=\"viridis\", yticklabels=source_domains, xticklabels=test_domains, fmt=\".1f\", vmin=50, vmax=100)\n",
    "plt.xticks(rotation=45)\n",
    "plt.yticks(rotation=0)\n",
    "ax.set_ylabel(\"Source\")\n",
    "ax.set_xlabel(\"Target\")\n",
    "\n",
    "plt.title(\"Naive Bayes with GLOT500 tokenizer\")\n",
    "plt.savefig(f\"NaiveBayesGlot500.pdf\", format=\"pdf\", bbox_inches=\"tight\")"
   ]
  },
  {
   "cell_type": "code",
   "execution_count": null,
   "metadata": {},
   "outputs": [],
   "source": []
  }
 ],
 "metadata": {
  "kernelspec": {
   "display_name": "thesis",
   "language": "python",
   "name": "python3"
  },
  "language_info": {
   "codemirror_mode": {
    "name": "ipython",
    "version": 3
   },
   "file_extension": ".py",
   "mimetype": "text/x-python",
   "name": "python",
   "nbconvert_exporter": "python",
   "pygments_lexer": "ipython3",
   "version": "3.13.1"
  }
 },
 "nbformat": 4,
 "nbformat_minor": 2
}
